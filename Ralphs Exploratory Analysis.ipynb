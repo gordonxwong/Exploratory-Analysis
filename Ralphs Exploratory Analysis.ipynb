{
 "cells": [
  {
   "cell_type": "markdown",
   "metadata": {},
   "source": [
    "# Exploratory Analysis for Ralphs transaction\n",
    "\n",
    "For the next three questions, download the `\"sales2018.csv.gz\"` file at https://www.dropbox.com/s/rc2noggb91kcims/sales2018.csv.gz?dl=0 (click the Download button at the top right on Dropbox, do not try to extract it but leave it as a compressed file) and save it in a folder accessible from the current directory. Load this into a DataFrame. The first few rows are as below."
   ]
  },
  {
   "cell_type": "code",
   "execution_count": 1,
   "metadata": {},
   "outputs": [
    {
     "data": {
      "text/html": [
       "<div>\n",
       "<style scoped>\n",
       "    .dataframe tbody tr th:only-of-type {\n",
       "        vertical-align: middle;\n",
       "    }\n",
       "\n",
       "    .dataframe tbody tr th {\n",
       "        vertical-align: top;\n",
       "    }\n",
       "\n",
       "    .dataframe thead th {\n",
       "        text-align: right;\n",
       "    }\n",
       "</style>\n",
       "<table border=\"1\" class=\"dataframe\">\n",
       "  <thead>\n",
       "    <tr style=\"text-align: right;\">\n",
       "      <th></th>\n",
       "      <th>sales_period</th>\n",
       "      <th>region</th>\n",
       "      <th>chain_id</th>\n",
       "      <th>BDC</th>\n",
       "      <th>BDC_description</th>\n",
       "      <th>GTIN</th>\n",
       "      <th>sales</th>\n",
       "      <th>returns</th>\n",
       "    </tr>\n",
       "  </thead>\n",
       "  <tbody>\n",
       "    <tr>\n",
       "      <th>0</th>\n",
       "      <td>1</td>\n",
       "      <td>SOUTHWEST</td>\n",
       "      <td>6.0</td>\n",
       "      <td>2015006</td>\n",
       "      <td>LAY'S XL HON BBQ</td>\n",
       "      <td>28400200684</td>\n",
       "      <td>40.656</td>\n",
       "      <td>0.000</td>\n",
       "    </tr>\n",
       "    <tr>\n",
       "      <th>1</th>\n",
       "      <td>1</td>\n",
       "      <td>SOUTHWEST</td>\n",
       "      <td>6.0</td>\n",
       "      <td>2015009</td>\n",
       "      <td>LAY'S XL KCM</td>\n",
       "      <td>28400199612</td>\n",
       "      <td>269.104</td>\n",
       "      <td>1.936</td>\n",
       "    </tr>\n",
       "    <tr>\n",
       "      <th>2</th>\n",
       "      <td>1</td>\n",
       "      <td>SOUTHWEST</td>\n",
       "      <td>6.0</td>\n",
       "      <td>2015011</td>\n",
       "      <td>LAY'S  XL REG</td>\n",
       "      <td>28400199148</td>\n",
       "      <td>425.920</td>\n",
       "      <td>3.872</td>\n",
       "    </tr>\n",
       "    <tr>\n",
       "      <th>3</th>\n",
       "      <td>1</td>\n",
       "      <td>SOUTHWEST</td>\n",
       "      <td>6.0</td>\n",
       "      <td>2015014</td>\n",
       "      <td>LAY'S XL  REG WAVY</td>\n",
       "      <td>28400043809</td>\n",
       "      <td>7.744</td>\n",
       "      <td>0.000</td>\n",
       "    </tr>\n",
       "    <tr>\n",
       "      <th>4</th>\n",
       "      <td>1</td>\n",
       "      <td>SOUTHWEST</td>\n",
       "      <td>6.0</td>\n",
       "      <td>2015014</td>\n",
       "      <td>LAY'S XL  REG WAVY</td>\n",
       "      <td>28400199544</td>\n",
       "      <td>114.224</td>\n",
       "      <td>5.808</td>\n",
       "    </tr>\n",
       "  </tbody>\n",
       "</table>\n",
       "</div>"
      ],
      "text/plain": [
       "   sales_period     region  chain_id      BDC     BDC_description  \\\n",
       "0             1  SOUTHWEST       6.0  2015006    LAY'S XL HON BBQ   \n",
       "1             1  SOUTHWEST       6.0  2015009        LAY'S XL KCM   \n",
       "2             1  SOUTHWEST       6.0  2015011       LAY'S  XL REG   \n",
       "3             1  SOUTHWEST       6.0  2015014  LAY'S XL  REG WAVY   \n",
       "4             1  SOUTHWEST       6.0  2015014  LAY'S XL  REG WAVY   \n",
       "\n",
       "          GTIN    sales  returns  \n",
       "0  28400200684   40.656    0.000  \n",
       "1  28400199612  269.104    1.936  \n",
       "2  28400199148  425.920    3.872  \n",
       "3  28400043809    7.744    0.000  \n",
       "4  28400199544  114.224    5.808  "
      ]
     },
     "execution_count": 1,
     "metadata": {},
     "output_type": "execute_result"
    }
   ],
   "source": [
    "import pandas as pd\n",
    "sales=pd.read_csv('sales2018.csv.gz')\n",
    "sales.head()"
   ]
  },
  {
   "cell_type": "markdown",
   "metadata": {},
   "source": [
    "## 1. National Trends and Regional Comparisons\n",
    "\n",
    "\n",
    "(a) Group the data by the column \"sales_period\", and compute the total sales in each period. Plot the total sales and update the title, xlabel and ylabel as below. \n",
    "\n",
    "```python\n",
    "import matplotlib.pyplot as plt\n",
    "plt.ylim(bottom=0)\n",
    "```"
   ]
  },
  {
   "cell_type": "code",
   "execution_count": 3,
   "metadata": {},
   "outputs": [
    {
     "data": {
      "text/plain": [
       "Text(0.5,0,'Sales Period (1 period is 4 weeks)')"
      ]
     },
     "execution_count": 3,
     "metadata": {},
     "output_type": "execute_result"
    },
    {
     "data": {
      "image/png": "[encoded data removed]",
      "text/plain": [
       "<Figure size 432x288 with 1 Axes>"
      ]
     },
     "metadata": {},
     "output_type": "display_data"
    }
   ],
   "source": [
    "import matplotlib.pyplot as plt\n",
    "s=sales.groupby('sales_period')['sales'].sum()\n",
    "s.plot()\n",
    "plt.ylim(bottom=0)\n",
    "plt.title(\"National Revenue in 2018\")\n",
    "plt.ylabel(\"Revenue\")\n",
    "plt.xlabel(\"Sales Period (1 period is 4 weeks)\")"
   ]
  },
  {
   "cell_type": "markdown",
   "metadata": {},
   "source": [
    "(b) Group the data by the column \"region\", compute the total sales from each region, and plot using a bar plot as below."
   ]
  },
  {
   "cell_type": "code",
   "execution_count": 6,
   "metadata": {},
   "outputs": [
    {
     "data": {
      "text/plain": [
       "Text(0.5,0,'Region')"
      ]
     },
     "execution_count": 6,
     "metadata": {},
     "output_type": "execute_result"
    },
    {
     "data": {
      "image/png": "[encoded data removed]",
      "text/plain": [
       "<Figure size 432x288 with 1 Axes>"
      ]
     },
     "metadata": {},
     "output_type": "display_data"
    }
   ],
   "source": [
    "r=sales.groupby(\"region\")['sales'].sum()\n",
    "r.plot(kind='bar')\n",
    "plt.title(\"Revenue by Region in 2018\")\n",
    "plt.ylabel(\"Revenue\")\n",
    "plt.xlabel(\"Region\")"
   ]
  },
  {
   "cell_type": "markdown",
   "metadata": {},
   "source": [
    "## 2. Examining Products that Are Often Returned (Due to Expiration)\n",
    "\n",
    "The column named \"returns\" documents the value of the product that is returned from the retailer during the sales period (because the product is expired). The manufacturer (FritoLays) has committed to buy back all of the products that are expired, so the retailers do not bear the associated risks. This part is to zoom in to a product that is returned a lot and figure out what happened.\n",
    "\n",
    "(a) Group the data by the column \"GTIN\" (product ID) and compute the total sales and returns for each product. Create a scatter plot as below where each point corresponds to a product, the x-axis corresponds to the total sales, and the y-axis corresponds to the total returns. "
   ]
  },
  {
   "cell_type": "code",
   "execution_count": 14,
   "metadata": {},
   "outputs": [
    {
     "data": {
      "text/plain": [
       "<matplotlib.axes._subplots.AxesSubplot at 0x22449654630>"
      ]
     },
     "execution_count": 14,
     "metadata": {},
     "output_type": "execute_result"
    },
    {
     "data": {
      "image/png": "[encoded data removed]",
      "text/plain": [
       "<Figure size 432x288 with 1 Axes>"
      ]
     },
     "metadata": {},
     "output_type": "display_data"
    }
   ],
   "source": [
    "p=sales.groupby(\"GTIN\")['sales','returns'].sum()\n",
    "p.plot(x='sales',y='returns',kind='scatter')"
   ]
  },
  {
   "cell_type": "markdown",
   "metadata": {},
   "source": [
    "(b) Create a new DataFrame called \"products\" in which each row is indexed by the GTIN (product ID). There should be four columns. \n",
    "\n",
    "- BDC_description: the first occurrence of the corresponding column in the original dataset for this GTIN.\n",
    "- sales: the total sales for this GTIN.\n",
    "- returns: the total returns for this GTIN.\n",
    "- return_ratio: the above column (returns) divided by the previous column (sales).\n",
    "\n",
    "Filter this DataFrame so that waste is at least 0.1 (10 percent), sort by the column \"returns\" in descending order, and display the first five rows."
   ]
  },
  {
   "cell_type": "code",
   "execution_count": 31,
   "metadata": {},
   "outputs": [
    {
     "data": {
      "text/html": [
       "<div>\n",
       "<style scoped>\n",
       "    .dataframe tbody tr th:only-of-type {\n",
       "        vertical-align: middle;\n",
       "    }\n",
       "\n",
       "    .dataframe tbody tr th {\n",
       "        vertical-align: top;\n",
       "    }\n",
       "\n",
       "    .dataframe thead th {\n",
       "        text-align: right;\n",
       "    }\n",
       "</style>\n",
       "<table border=\"1\" class=\"dataframe\">\n",
       "  <thead>\n",
       "    <tr style=\"text-align: right;\">\n",
       "      <th></th>\n",
       "      <th>BDC_description</th>\n",
       "      <th>sales</th>\n",
       "      <th>returns</th>\n",
       "      <th>return_ratio</th>\n",
       "    </tr>\n",
       "    <tr>\n",
       "      <th>GTIN</th>\n",
       "      <th></th>\n",
       "      <th></th>\n",
       "      <th></th>\n",
       "      <th></th>\n",
       "    </tr>\n",
       "  </thead>\n",
       "  <tbody>\n",
       "    <tr>\n",
       "      <th>28400923293</th>\n",
       "      <td>DR XXVL INFERNO</td>\n",
       "      <td>1.922410e+07</td>\n",
       "      <td>2678771.550</td>\n",
       "      <td>0.139344</td>\n",
       "    </tr>\n",
       "    <tr>\n",
       "      <th>28400600927</th>\n",
       "      <td>DORITO X-XVL NUG/CHD</td>\n",
       "      <td>1.478977e+07</td>\n",
       "      <td>1490084.315</td>\n",
       "      <td>0.100751</td>\n",
       "    </tr>\n",
       "    <tr>\n",
       "      <th>28400601290</th>\n",
       "      <td>MATADO 6CT TERI</td>\n",
       "      <td>6.136973e+05</td>\n",
       "      <td>857300.640</td>\n",
       "      <td>1.396944</td>\n",
       "    </tr>\n",
       "    <tr>\n",
       "      <th>28400601320</th>\n",
       "      <td>MATADO 6CT ORIG</td>\n",
       "      <td>8.393314e+05</td>\n",
       "      <td>787043.040</td>\n",
       "      <td>0.937702</td>\n",
       "    </tr>\n",
       "    <tr>\n",
       "      <th>28400674751</th>\n",
       "      <td>LB XXVL PAB BBQ</td>\n",
       "      <td>4.383899e+06</td>\n",
       "      <td>581055.565</td>\n",
       "      <td>0.132543</td>\n",
       "    </tr>\n",
       "  </tbody>\n",
       "</table>\n",
       "</div>"
      ],
      "text/plain": [
       "                  BDC_description         sales      returns  return_ratio\n",
       "GTIN                                                                      \n",
       "28400923293       DR XXVL INFERNO  1.922410e+07  2678771.550      0.139344\n",
       "28400600927  DORITO X-XVL NUG/CHD  1.478977e+07  1490084.315      0.100751\n",
       "28400601290       MATADO 6CT TERI  6.136973e+05   857300.640      1.396944\n",
       "28400601320       MATADO 6CT ORIG  8.393314e+05   787043.040      0.937702\n",
       "28400674751       LB XXVL PAB BBQ  4.383899e+06   581055.565      0.132543"
      ]
     },
     "execution_count": 31,
     "metadata": {},
     "output_type": "execute_result"
    }
   ],
   "source": [
    "products = sales.groupby('GTIN')\\\n",
    "            .agg({'BDC_description':'first','sales':'sum','returns':'sum'})\n",
    "products['return_ratio']=products['returns']/products['sales']\n",
    "products[products['return_ratio']>=0.1].sort_values('returns',ascending = False).head(5)"
   ]
  },
  {
   "cell_type": "markdown",
   "metadata": {},
   "source": [
    "(c) As seen above, the product with the highest returns in 2018 is \"DR XXVL INFERNO\", with GTIN 28400923293. Filter the original dataset to only show this product and compute the return ratio for each region separately (by first grouping by the region and computing the sum of sales and returns in each region, and then dividing the total returns by the total sales in each region.) Sort the result by return ratio and plot the return ratio by region as below."
   ]
  },
  {
   "cell_type": "code",
   "execution_count": 54,
   "metadata": {},
   "outputs": [
    {
     "data": {
      "text/plain": [
       "Text(0.5,1,'Return ratio of DR XXVL INFERNO by region')"
      ]
     },
     "execution_count": 54,
     "metadata": {},
     "output_type": "execute_result"
    },
    {
     "data": {
      "image/png": "[encoded data removed]",
      "text/plain": [
       "<Figure size 432x288 with 1 Axes>"
      ]
     },
     "metadata": {},
     "output_type": "display_data"
    }
   ],
   "source": [
    "high=sales[sales['GTIN']==28400923293].groupby('region')\\\n",
    "                    .agg({'sales':'sum','returns':'sum'})\n",
    "high['return_ratio']=high['returns']/high['sales']\n",
    "high.sort_values('return_ratio',ascending = True).head(10).plot(y='return_ratio',kind='bar',legend=None)\n",
    "plt.ylabel('Proportion of sales returned')\n",
    "plt.xlabel('Sales region')\n",
    "plt.title('Return ratio of DR XXVL INFERNO by region')"
   ]
  },
  {
   "cell_type": "markdown",
   "metadata": {},
   "source": [
    "(d) Filtering again for the same GTIN as above, group by the sales_period and compute the total sales and returns in each period, and plot both columns as below. \n",
    "\n",
    "As can be seen, Fritolays pushed out a lot of sales of this product in the early periods, but evidently there were a lot of expirations in periods 6 through 9, which drove the high returns for this product."
   ]
  },
  {
   "cell_type": "code",
   "execution_count": 55,
   "metadata": {},
   "outputs": [
    {
     "data": {
      "text/plain": [
       "Text(0.5,1,'What happened to DR XXVL INFERNO in 2018?')"
      ]
     },
     "execution_count": 55,
     "metadata": {},
     "output_type": "execute_result"
    },
    {
     "data": {
      "image/png": "[encoded data removed]",
      "text/plain": [
       "<Figure size 432x288 with 1 Axes>"
      ]
     },
     "metadata": {},
     "output_type": "display_data"
    }
   ],
   "source": [
    "gtin1 = 28400923293\n",
    "returnperiod = sales.query('GTIN == @gtin1').groupby('sales_period')[['sales','returns']].sum()\n",
    "returnperiod.plot()\n",
    "plt.xlabel('Sales period')\n",
    "plt.ylabel('Dollars')\n",
    "plt.title('What happened to DR XXVL INFERNO in 2018?')"
   ]
  },
  {
   "cell_type": "markdown",
   "metadata": {},
   "source": [
    "## 3. Differential Taste Preferences across Regions\n",
    "\n",
    "(a) Create a DataFrame called \"products\". Add a column called \"hot\" which corresponds to whether the BDC_description contains the substrings \"HOT\" or \"SPY\" or \"FLAM\". "
   ]
  },
  {
   "cell_type": "code",
   "execution_count": 56,
   "metadata": {},
   "outputs": [
    {
     "data": {
      "text/html": [
       "<div>\n",
       "<style scoped>\n",
       "    .dataframe tbody tr th:only-of-type {\n",
       "        vertical-align: middle;\n",
       "    }\n",
       "\n",
       "    .dataframe tbody tr th {\n",
       "        vertical-align: top;\n",
       "    }\n",
       "\n",
       "    .dataframe thead th {\n",
       "        text-align: right;\n",
       "    }\n",
       "</style>\n",
       "<table border=\"1\" class=\"dataframe\">\n",
       "  <thead>\n",
       "    <tr style=\"text-align: right;\">\n",
       "      <th></th>\n",
       "      <th>BDC_description</th>\n",
       "      <th>sales</th>\n",
       "      <th>returns</th>\n",
       "      <th>hot</th>\n",
       "    </tr>\n",
       "    <tr>\n",
       "      <th>GTIN</th>\n",
       "      <th></th>\n",
       "      <th></th>\n",
       "      <th></th>\n",
       "      <th></th>\n",
       "    </tr>\n",
       "  </thead>\n",
       "  <tbody>\n",
       "    <tr>\n",
       "      <th>28400642033</th>\n",
       "      <td>DORITOS XXL NAC</td>\n",
       "      <td>4.492523e+08</td>\n",
       "      <td>1.281142e+06</td>\n",
       "      <td>False</td>\n",
       "    </tr>\n",
       "    <tr>\n",
       "      <th>28400064088</th>\n",
       "      <td>TOSTITOS XXL SCOOPS</td>\n",
       "      <td>2.731882e+08</td>\n",
       "      <td>1.993287e+06</td>\n",
       "      <td>False</td>\n",
       "    </tr>\n",
       "    <tr>\n",
       "      <th>28400645492</th>\n",
       "      <td>LAY'S XXL REG</td>\n",
       "      <td>2.723866e+08</td>\n",
       "      <td>1.854966e+06</td>\n",
       "      <td>False</td>\n",
       "    </tr>\n",
       "    <tr>\n",
       "      <th>28400002899</th>\n",
       "      <td>VPK    SUPER WHTCRN</td>\n",
       "      <td>2.149266e+08</td>\n",
       "      <td>8.349600e+05</td>\n",
       "      <td>False</td>\n",
       "    </tr>\n",
       "    <tr>\n",
       "      <th>28400596688</th>\n",
       "      <td>CT PUF XL JUMBO</td>\n",
       "      <td>2.064506e+08</td>\n",
       "      <td>6.129386e+05</td>\n",
       "      <td>False</td>\n",
       "    </tr>\n",
       "  </tbody>\n",
       "</table>\n",
       "</div>"
      ],
      "text/plain": [
       "                 BDC_description         sales       returns    hot\n",
       "GTIN                                                               \n",
       "28400642033      DORITOS XXL NAC  4.492523e+08  1.281142e+06  False\n",
       "28400064088  TOSTITOS XXL SCOOPS  2.731882e+08  1.993287e+06  False\n",
       "28400645492        LAY'S XXL REG  2.723866e+08  1.854966e+06  False\n",
       "28400002899  VPK    SUPER WHTCRN  2.149266e+08  8.349600e+05  False\n",
       "28400596688      CT PUF XL JUMBO  2.064506e+08  6.129386e+05  False"
      ]
     },
     "execution_count": 56,
     "metadata": {},
     "output_type": "execute_result"
    }
   ],
   "source": [
    "products = sales.groupby('GTIN')\\\n",
    "            .agg({'BDC_description':'first','sales':'sum','returns':'sum'})\n",
    "products['hot'] = products['BDC_description'].str.contains('HOT') | products['BDC_description'].str.contains('SPY') \\\n",
    "                | products['BDC_description'].str.contains('FLAM')\n",
    "products = products.sort_values('sales', ascending = False)\n",
    "products.head()"
   ]
  },
  {
   "cell_type": "markdown",
   "metadata": {},
   "source": [
    "(b) Merge the data table. "
   ]
  },
  {
   "cell_type": "code",
   "execution_count": 57,
   "metadata": {},
   "outputs": [
    {
     "data": {
      "text/html": [
       "<div>\n",
       "<style scoped>\n",
       "    .dataframe tbody tr th:only-of-type {\n",
       "        vertical-align: middle;\n",
       "    }\n",
       "\n",
       "    .dataframe tbody tr th {\n",
       "        vertical-align: top;\n",
       "    }\n",
       "\n",
       "    .dataframe thead th {\n",
       "        text-align: right;\n",
       "    }\n",
       "</style>\n",
       "<table border=\"1\" class=\"dataframe\">\n",
       "  <thead>\n",
       "    <tr style=\"text-align: right;\">\n",
       "      <th></th>\n",
       "      <th>sales_period</th>\n",
       "      <th>region</th>\n",
       "      <th>chain_id</th>\n",
       "      <th>BDC</th>\n",
       "      <th>BDC_description</th>\n",
       "      <th>GTIN</th>\n",
       "      <th>sales</th>\n",
       "      <th>returns</th>\n",
       "      <th>return_ratio</th>\n",
       "      <th>hot</th>\n",
       "    </tr>\n",
       "  </thead>\n",
       "  <tbody>\n",
       "    <tr>\n",
       "      <th>0</th>\n",
       "      <td>1</td>\n",
       "      <td>SOUTHWEST</td>\n",
       "      <td>6.0</td>\n",
       "      <td>2015006</td>\n",
       "      <td>LAY'S XL HON BBQ</td>\n",
       "      <td>28400200684</td>\n",
       "      <td>40.656</td>\n",
       "      <td>0.000</td>\n",
       "      <td>0.000000</td>\n",
       "      <td>False</td>\n",
       "    </tr>\n",
       "    <tr>\n",
       "      <th>1</th>\n",
       "      <td>1</td>\n",
       "      <td>SOUTHWEST</td>\n",
       "      <td>6.0</td>\n",
       "      <td>2015009</td>\n",
       "      <td>LAY'S XL KCM</td>\n",
       "      <td>28400199612</td>\n",
       "      <td>269.104</td>\n",
       "      <td>1.936</td>\n",
       "      <td>0.007194</td>\n",
       "      <td>False</td>\n",
       "    </tr>\n",
       "    <tr>\n",
       "      <th>2</th>\n",
       "      <td>1</td>\n",
       "      <td>SOUTHWEST</td>\n",
       "      <td>6.0</td>\n",
       "      <td>2015011</td>\n",
       "      <td>LAY'S  XL REG</td>\n",
       "      <td>28400199148</td>\n",
       "      <td>425.920</td>\n",
       "      <td>3.872</td>\n",
       "      <td>0.009091</td>\n",
       "      <td>False</td>\n",
       "    </tr>\n",
       "    <tr>\n",
       "      <th>3</th>\n",
       "      <td>1</td>\n",
       "      <td>SOUTHWEST</td>\n",
       "      <td>6.0</td>\n",
       "      <td>2015014</td>\n",
       "      <td>LAY'S XL  REG WAVY</td>\n",
       "      <td>28400043809</td>\n",
       "      <td>7.744</td>\n",
       "      <td>0.000</td>\n",
       "      <td>0.000000</td>\n",
       "      <td>False</td>\n",
       "    </tr>\n",
       "    <tr>\n",
       "      <th>4</th>\n",
       "      <td>1</td>\n",
       "      <td>SOUTHWEST</td>\n",
       "      <td>6.0</td>\n",
       "      <td>2015014</td>\n",
       "      <td>LAY'S XL  REG WAVY</td>\n",
       "      <td>28400199544</td>\n",
       "      <td>114.224</td>\n",
       "      <td>5.808</td>\n",
       "      <td>0.050847</td>\n",
       "      <td>False</td>\n",
       "    </tr>\n",
       "  </tbody>\n",
       "</table>\n",
       "</div>"
      ],
      "text/plain": [
       "   sales_period     region  chain_id      BDC     BDC_description  \\\n",
       "0             1  SOUTHWEST       6.0  2015006    LAY'S XL HON BBQ   \n",
       "1             1  SOUTHWEST       6.0  2015009        LAY'S XL KCM   \n",
       "2             1  SOUTHWEST       6.0  2015011       LAY'S  XL REG   \n",
       "3             1  SOUTHWEST       6.0  2015014  LAY'S XL  REG WAVY   \n",
       "4             1  SOUTHWEST       6.0  2015014  LAY'S XL  REG WAVY   \n",
       "\n",
       "          GTIN    sales  returns  return_ratio    hot  \n",
       "0  28400200684   40.656    0.000      0.000000  False  \n",
       "1  28400199612  269.104    1.936      0.007194  False  \n",
       "2  28400199148  425.920    3.872      0.009091  False  \n",
       "3  28400043809    7.744    0.000      0.000000  False  \n",
       "4  28400199544  114.224    5.808      0.050847  False  "
      ]
     },
     "execution_count": 57,
     "metadata": {},
     "output_type": "execute_result"
    }
   ],
   "source": [
    "sales2 = sales.merge(products[['hot']], on = ['GTIN'], how = 'left')\n",
    "sales2.head()"
   ]
  },
  {
   "cell_type": "markdown",
   "metadata": {},
   "source": [
    "(c) Run the following code to groupby the columns \"region\" and \"hot\" and compute the total sales in each combination.\n"
   ]
  },
  {
   "cell_type": "code",
   "execution_count": 68,
   "metadata": {},
   "outputs": [
    {
     "data": {
      "text/plain": [
       "region        hot  \n",
       "CAROLINAS     False    1.107189e+09\n",
       "              True     7.554390e+07\n",
       "HEARTLAND     False    9.417314e+08\n",
       "              True     1.332320e+08\n",
       "MID-AMERICA   False    9.045835e+08\n",
       "              True     8.757321e+07\n",
       "MID-ATLANTIC  False    9.225461e+08\n",
       "              True     4.773408e+07\n",
       "MID-SOUTH     False    1.789494e+09\n",
       "              True     3.601769e+08\n",
       "MIDWEST       False    9.547019e+08\n",
       "              True     8.184948e+07\n",
       "NORTHEAST     False    9.987505e+08\n",
       "              True     3.831104e+07\n",
       "NORTHWEST     False    1.035705e+09\n",
       "              True     1.266731e+08\n",
       "SOUTHEAST     False    1.863230e+09\n",
       "              True     1.745410e+08\n",
       "SOUTHWEST     False    1.624273e+09\n",
       "              True     4.805738e+08\n",
       "Name: sales, dtype: float64"
      ]
     },
     "execution_count": 68,
     "metadata": {},
     "output_type": "execute_result"
    }
   ],
   "source": [
    "s=sales2.groupby(['region','hot'])['sales'].sum()\n",
    "s"
   ]
  },
  {
   "cell_type": "markdown",
   "metadata": {},
   "source": [
    "The above result is a Series object with two levels of indices, \"region\" and \"hot\". The values are displayed in the right most column above, and the label for each row is a combination of terms. The first value corresponds to the label (\"CAROLINAS\", False), the second value of correspond to the label (\"CAROLINAS\",True), the third corresponds to (\"HEARTLAND\", False), etc.\n",
    "\n",
    "Using the unstack function and plot the result."
   ]
  },
  {
   "cell_type": "code",
   "execution_count": 71,
   "metadata": {},
   "outputs": [
    {
     "data": {
      "text/html": [
       "<div>\n",
       "<style scoped>\n",
       "    .dataframe tbody tr th:only-of-type {\n",
       "        vertical-align: middle;\n",
       "    }\n",
       "\n",
       "    .dataframe tbody tr th {\n",
       "        vertical-align: top;\n",
       "    }\n",
       "\n",
       "    .dataframe thead th {\n",
       "        text-align: right;\n",
       "    }\n",
       "</style>\n",
       "<table border=\"1\" class=\"dataframe\">\n",
       "  <thead>\n",
       "    <tr style=\"text-align: right;\">\n",
       "      <th>hot</th>\n",
       "      <th>False</th>\n",
       "      <th>True</th>\n",
       "    </tr>\n",
       "    <tr>\n",
       "      <th>region</th>\n",
       "      <th></th>\n",
       "      <th></th>\n",
       "    </tr>\n",
       "  </thead>\n",
       "  <tbody>\n",
       "    <tr>\n",
       "      <th>CAROLINAS</th>\n",
       "      <td>1.107189e+09</td>\n",
       "      <td>7.554390e+07</td>\n",
       "    </tr>\n",
       "    <tr>\n",
       "      <th>HEARTLAND</th>\n",
       "      <td>9.417314e+08</td>\n",
       "      <td>1.332320e+08</td>\n",
       "    </tr>\n",
       "    <tr>\n",
       "      <th>MID-AMERICA</th>\n",
       "      <td>9.045835e+08</td>\n",
       "      <td>8.757321e+07</td>\n",
       "    </tr>\n",
       "    <tr>\n",
       "      <th>MID-ATLANTIC</th>\n",
       "      <td>9.225461e+08</td>\n",
       "      <td>4.773408e+07</td>\n",
       "    </tr>\n",
       "    <tr>\n",
       "      <th>MID-SOUTH</th>\n",
       "      <td>1.789494e+09</td>\n",
       "      <td>3.601769e+08</td>\n",
       "    </tr>\n",
       "    <tr>\n",
       "      <th>MIDWEST</th>\n",
       "      <td>9.547019e+08</td>\n",
       "      <td>8.184948e+07</td>\n",
       "    </tr>\n",
       "    <tr>\n",
       "      <th>NORTHEAST</th>\n",
       "      <td>9.987505e+08</td>\n",
       "      <td>3.831104e+07</td>\n",
       "    </tr>\n",
       "    <tr>\n",
       "      <th>NORTHWEST</th>\n",
       "      <td>1.035705e+09</td>\n",
       "      <td>1.266731e+08</td>\n",
       "    </tr>\n",
       "    <tr>\n",
       "      <th>SOUTHEAST</th>\n",
       "      <td>1.863230e+09</td>\n",
       "      <td>1.745410e+08</td>\n",
       "    </tr>\n",
       "    <tr>\n",
       "      <th>SOUTHWEST</th>\n",
       "      <td>1.624273e+09</td>\n",
       "      <td>4.805738e+08</td>\n",
       "    </tr>\n",
       "  </tbody>\n",
       "</table>\n",
       "</div>"
      ],
      "text/plain": [
       "hot                  False         True \n",
       "region                                  \n",
       "CAROLINAS     1.107189e+09  7.554390e+07\n",
       "HEARTLAND     9.417314e+08  1.332320e+08\n",
       "MID-AMERICA   9.045835e+08  8.757321e+07\n",
       "MID-ATLANTIC  9.225461e+08  4.773408e+07\n",
       "MID-SOUTH     1.789494e+09  3.601769e+08\n",
       "MIDWEST       9.547019e+08  8.184948e+07\n",
       "NORTHEAST     9.987505e+08  3.831104e+07\n",
       "NORTHWEST     1.035705e+09  1.266731e+08\n",
       "SOUTHEAST     1.863230e+09  1.745410e+08\n",
       "SOUTHWEST     1.624273e+09  4.805738e+08"
      ]
     },
     "execution_count": 71,
     "metadata": {},
     "output_type": "execute_result"
    }
   ],
   "source": [
    "s=sales2.groupby(['region','hot'])['sales'].sum().unstack()\n",
    "s"
   ]
  },
  {
   "cell_type": "code",
   "execution_count": 74,
   "metadata": {},
   "outputs": [
    {
     "data": {
      "text/plain": [
       "Text(0,0.5,'Total revenue')"
      ]
     },
     "execution_count": 74,
     "metadata": {},
     "output_type": "execute_result"
    },
    {
     "data": {
      "image/png": "[encoded data removed]",
      "text/plain": [
       "<Figure size 432x288 with 1 Axes>"
      ]
     },
     "metadata": {},
     "output_type": "display_data"
    }
   ],
   "source": [
    "s.plot(kind='bar')\n",
    "plt.ylabel('Total revenue')"
   ]
  },
  {
   "cell_type": "markdown",
   "metadata": {},
   "source": [
    "As can be seen, the regions Mid-South and Southwest have the most proportion of revenue coming from spicy products, which makes sense as these regions have spicy tastes."
   ]
  }
 ],
 "metadata": {
  "kernelspec": {
   "display_name": "Python 3",
   "language": "python",
   "name": "python3"
  },
  "language_info": {
   "codemirror_mode": {
    "name": "ipython",
    "version": 3
   },
   "file_extension": ".py",
   "mimetype": "text/x-python",
   "name": "python",
   "nbconvert_exporter": "python",
   "pygments_lexer": "ipython3",
   "version": "3.6.5"
  }
 },
 "nbformat": 4,
 "nbformat_minor": 2
}

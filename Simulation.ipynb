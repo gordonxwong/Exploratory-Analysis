{
 "cells": [
  {
   "cell_type": "markdown",
   "metadata": {},
   "source": [
    "# Homework 6 (Due before class on 2/21)\n",
    "\n",
    "**Name:**\n",
    "\n",
    "For questions Q1-Q6, you can use code cells to make computations, but you should write your answer and derivations as text in a markdown cell, below **\"Answer\"**. \n",
    "\n",
    "Questions Q7-Q8 are coding questions to help you practice writing simulations."
   ]
  },
  {
   "cell_type": "markdown",
   "metadata": {},
   "source": [
    "## Q1. DMD Exercise 2.22 \n",
    "A large retail company has stores at two locations in a city: a large department store and a discount outlet store. Weekly sales of umbrellas at the department store have a mean of 147.8 and a standard deviation of 50.1. Weekly sales of umbrellas at the discount outlet store have a mean of 63.2 and a standard deviation of 37.0. Sales of umbrellas in the two stores have a correlation of 0.7.\n",
    "\n",
    "Umbrellas cost 17 dollars each at the department store and 9 dollars each at the outlet store. Compute the mean, variance, and standard deviation of the total (combined) umbrella sales revenue from the two stores. (To solve this question, you would have to use the formula in DMD Section 2.11.)\n",
    "\n",
    "**Answer:**\n",
    "\n",
    "Department Store: Mean:2512, Standard Deviation:851.7\n",
    "\n",
    "Outlet Store: Mean:568.8, Standard Deviation:333"
   ]
  },
  {
   "cell_type": "code",
   "execution_count": 3,
   "metadata": {},
   "outputs": [
    {
     "data": {
      "text/plain": [
       "(2512.6000000000004, 851.7, 568.8000000000001, 333)"
      ]
     },
     "execution_count": 3,
     "metadata": {},
     "output_type": "execute_result"
    }
   ],
   "source": [
    "#Department Store\n",
    "E1,SD1=147.8*17,50.1*17\n",
    "#Outlet Store\n",
    "E2,SD2=63.2*9,37*9\n",
    "E1,SD1,E2,SD2"
   ]
  },
  {
   "cell_type": "markdown",
   "metadata": {},
   "source": [
    "## Q2. DMD Exercise 2.25\n",
    "\n",
    "Suppose 5 percent of the microchips produced by a leading microchip manufacturer are defective. Historically, given that a microchip is defective, the inspector (wrongly) accepts the chip 10 percent of the time, thinking it has no defect. If a microchip is not defective, he always correctly accepts it. Suppose that the inspector inspects 10 microchips.\n",
    "\n",
    "(a) What is the probability that all 10 microchips in the sample are not defective?\n",
    "\n",
    "(b) What is the probability that the inspector accepts a particular microchip?\n",
    "\n",
    "(c) What is the probability that the inspector accepts 9 (out of 10) microchips?\n",
    "\n",
    "(d) Given that the inspector accepts a microchip, what is the probability that it has no defect?\n",
    "\n",
    "(e) Given that inspector accepts all 10 microchips, what is the probability that they all have no defects?\n",
    "\n",
    "**Answer:**\n",
    "(a) 0.60 (b) 0.955 (c)0.30 (d) 0.994 (e) 0.949"
   ]
  },
  {
   "cell_type": "code",
   "execution_count": 12,
   "metadata": {},
   "outputs": [],
   "source": [
    "from scipy.stats import binom"
   ]
  },
  {
   "cell_type": "code",
   "execution_count": 18,
   "metadata": {},
   "outputs": [
    {
     "data": {
      "text/plain": [
       "0.5987369392383787"
      ]
     },
     "execution_count": 18,
     "metadata": {},
     "output_type": "execute_result"
    }
   ],
   "source": [
    "0.95**10"
   ]
  },
  {
   "cell_type": "code",
   "execution_count": 20,
   "metadata": {},
   "outputs": [
    {
     "data": {
      "text/plain": [
       "0.955"
      ]
     },
     "execution_count": 20,
     "metadata": {},
     "output_type": "execute_result"
    }
   ],
   "source": [
    "1-0.05*0.9"
   ]
  },
  {
   "cell_type": "code",
   "execution_count": 21,
   "metadata": {},
   "outputs": [
    {
     "data": {
      "text/plain": [
       "0.2973328255894689"
      ]
     },
     "execution_count": 21,
     "metadata": {},
     "output_type": "execute_result"
    }
   ],
   "source": [
    "dist=binom(10,1-0.05*0.9)\n",
    "dist.cdf(9)-dist.cdf(8)"
   ]
  },
  {
   "cell_type": "code",
   "execution_count": 23,
   "metadata": {},
   "outputs": [
    {
     "data": {
      "text/plain": [
       "0.9947643979057592"
      ]
     },
     "execution_count": 23,
     "metadata": {},
     "output_type": "execute_result"
    }
   ],
   "source": [
    "p=0.95/(0.005+0.95)\n",
    "p"
   ]
  },
  {
   "cell_type": "code",
   "execution_count": 24,
   "metadata": {},
   "outputs": [
    {
     "data": {
      "text/plain": [
       "0.9488604327776428"
      ]
     },
     "execution_count": 24,
     "metadata": {},
     "output_type": "execute_result"
    }
   ],
   "source": [
    "p**10"
   ]
  },
  {
   "cell_type": "markdown",
   "metadata": {},
   "source": [
    "## Q3. DMD Exercise 2.27\n",
    "\n",
    "In this exercise we examine the effects of overbooking in the airline industry. Ontario Gateway Airlines' first class cabins have 10 seats in each plane. Ontario's overbooking policy is to sell up to 11 first class tickets, since cancellations and no-shows are always possible (and indeed are quite likely). For a given flight on Ontario Gateway, there were 11 first class tickets sold. Suppose that each of the 11 persons who purchased tickets has a 20 percent chance of not showing up for the flight, and that the events that different persons show up for the flight are independent.\n",
    "\n",
    "(a) What is the probability that at most 5 of the 11 persons who purchased first class tickets show up for the flight?\n",
    "\n",
    "(b) What is the probability that exactly 10 of the persons who purchased first class tickets show up for the flight?\n",
    "\n",
    "(c) Suppose that there are 10 seats in the first class available and that the cost of each first class ticket is 1,200 dollars. (This 1,200 contributes entirely to profit since the variable cost associated with a passenger on a flight is close to zero.) Suppose further that any overbooked seat costs the airline 3,000 dollars, which is the cost of the free ticket issued the passenger plus some potential cost in damanged customer relations. (First class passengers do not expect to be bumped!) Thus, for example, if 10 of the first class passengers show up for the flight, the airline's profit is 12,000. If 11 first class passengers show up, the profit is 9,000. What is the expected profit from first class passengers for this flight?\n",
    "\n",
    "(d) Suppose that only 10 first class tickets were sold. What would be the expected profit from first class passengers for this flgith?\n",
    "\n",
    "(e) People often travel in groups of two or more. Does this affect the independence assumption about passenger behavior? Why or why not?\n",
    "\n",
    "**Answer:**\n",
    "\n",
    "(a) 0.012 (b) 0.24 (c) 12839.22 (d) 12000 \n",
    "\n",
    "(e) It affects the independence. Because the person travels in groups who cannot be on flight, his or her partner will also have propensity to give up the flight no matter for business or a trip."
   ]
  },
  {
   "cell_type": "code",
   "execution_count": 25,
   "metadata": {},
   "outputs": [
    {
     "data": {
      "text/plain": [
       "0.011654205439999985"
      ]
     },
     "execution_count": 25,
     "metadata": {},
     "output_type": "execute_result"
    }
   ],
   "source": [
    "binom(11,0.8).cdf(5)"
   ]
  },
  {
   "cell_type": "code",
   "execution_count": 26,
   "metadata": {},
   "outputs": [
    {
     "data": {
      "text/plain": [
       "0.23622320127999974"
      ]
     },
     "execution_count": 26,
     "metadata": {},
     "output_type": "execute_result"
    }
   ],
   "source": [
    "binom(11,0.8).cdf(10)-binom(11,0.8).cdf(9)"
   ]
  },
  {
   "cell_type": "code",
   "execution_count": 29,
   "metadata": {},
   "outputs": [
    {
     "data": {
      "text/plain": [
       "12839.222747136"
      ]
     },
     "execution_count": 29,
     "metadata": {},
     "output_type": "execute_result"
    }
   ],
   "source": [
    "11*1200-(1200+3000)*0.8**11"
   ]
  },
  {
   "cell_type": "code",
   "execution_count": 28,
   "metadata": {},
   "outputs": [
    {
     "data": {
      "text/plain": [
       "12000"
      ]
     },
     "execution_count": 28,
     "metadata": {},
     "output_type": "execute_result"
    }
   ],
   "source": [
    "10*1200"
   ]
  },
  {
   "cell_type": "markdown",
   "metadata": {},
   "source": [
    "## Q4. DMD Exercise 3.6\n",
    "Winter lasts from December 21 through March 21. The average winter temperature in Boston is Normally distributed with mean $\\mu=32.5$ Fahrenheit and standard deviation is $\\sigma=1.59$ Fahrenheit. In New York City, the average winter temperature is Normally distributed with mean $\\mu=35.4$ Fahrenheit and standard deviation $\\sigma=2.05$ Fahrenheit.\n",
    "\n",
    "(a) What is the probability that the average winter temperature in Boston this coming winter will be above freezing (32 degrees Fahrenheit)?\n",
    "\n",
    "(b) Assume that average winter temperatures in Boston and New York are independent. What is the probability that the average winter temperature in Boston in the coming winter will be higher than in New York?\n",
    "\n",
    "(c) Do you think the independence assumption above is reasonable?\n",
    "\n",
    "**Answer:**\n",
    "(a) 0.623\n",
    "(b) 0.132\n",
    "\n",
    "(c) It is not reasonable, because there will be global warming issue which will cause both cities' temperature incrasing."
   ]
  },
  {
   "cell_type": "code",
   "execution_count": 1,
   "metadata": {},
   "outputs": [],
   "source": [
    "from scipy.stats import norm"
   ]
  },
  {
   "cell_type": "code",
   "execution_count": 2,
   "metadata": {},
   "outputs": [
    {
     "data": {
      "text/plain": [
       "0.6234162076815486"
      ]
     },
     "execution_count": 2,
     "metadata": {},
     "output_type": "execute_result"
    }
   ],
   "source": [
    "1-norm(32.5,1.59).cdf(32)"
   ]
  },
  {
   "cell_type": "code",
   "execution_count": 3,
   "metadata": {},
   "outputs": [],
   "source": [
    "s1=norm(32.5,1.59).rvs(size=100000000)\n",
    "s2=norm(35.4,2.05).rvs(size=100000000)"
   ]
  },
  {
   "cell_type": "code",
   "execution_count": 4,
   "metadata": {},
   "outputs": [
    {
     "data": {
      "text/plain": [
       "0.13183699"
      ]
     },
     "execution_count": 4,
     "metadata": {},
     "output_type": "execute_result"
    }
   ],
   "source": [
    "(s1-s2>0).mean()"
   ]
  },
  {
   "cell_type": "markdown",
   "metadata": {},
   "source": [
    "## Q5. DMD Exercise 3.12\n",
    "A portfolio manager believes that tomorrow's foreign exchange rate of German marks per U.S. dollar will be Normally distributed with mean 2.03 and standard deviation 0.08. Using the manager's numbers, answer the following questions:\n",
    "\n",
    "(a) What is the probability that tomorrow's rate will be above 2.08?\n",
    "\n",
    "(b) What is the probability that tomorrow's rate will be below 1.85?\n",
    "\n",
    "(c) What is the probability that tomorrow's rate will be between 2.00 and 2.20?\n",
    "\n",
    "**Answer:**\n",
    "(a) 0.27 (b) 0.012 (c) 0.63\n"
   ]
  },
  {
   "cell_type": "code",
   "execution_count": 5,
   "metadata": {},
   "outputs": [
    {
     "data": {
      "text/plain": [
       "0.26598552904869943"
      ]
     },
     "execution_count": 5,
     "metadata": {},
     "output_type": "execute_result"
    }
   ],
   "source": [
    "1-norm(2.03,0.08).cdf(2.08)"
   ]
  },
  {
   "cell_type": "code",
   "execution_count": 7,
   "metadata": {},
   "outputs": [
    {
     "data": {
      "text/plain": [
       "0.01222447265504482"
      ]
     },
     "execution_count": 7,
     "metadata": {},
     "output_type": "execute_result"
    }
   ],
   "source": [
    "norm(2.03,0.08).cdf(1.85)"
   ]
  },
  {
   "cell_type": "code",
   "execution_count": 8,
   "metadata": {},
   "outputs": [
    {
     "data": {
      "text/plain": [
       "0.6293764602242743"
      ]
     },
     "execution_count": 8,
     "metadata": {},
     "output_type": "execute_result"
    }
   ],
   "source": [
    "norm(2.03,0.08).cdf(2.2)-norm(2.03,0.08).cdf(2)"
   ]
  },
  {
   "cell_type": "markdown",
   "metadata": {},
   "source": [
    "## Q6. DMD Exercise 3.20\n",
    "\n",
    "The paint department in an automobile factory applies two processes when painting cars: (i) painting and (ii) polishing. The painting process is defective 20\\% of the time, while the polishing process is defective 10\\% of the time. Each car first goes through the painting and then through the polishing process. Each car is inspected after it has completed the two processes. If either the painting or the polishing is defective, the car is returned to a special station for rework, where the two processes are applied once again. Rework at the special station is 100\\% reliable (although it is also very expensive).\n",
    "\n",
    "(a) What is the probability that a car is returned to the special station for rework?\n",
    "\n",
    "(b) In a batch of 1000 cars, what is the expected number of cars that will be returned for rework?\n",
    "\n",
    "(c) In a batch of 1000 cars, what is the probability that the number of returned cars is less than or equal to 200?\n",
    "\n",
    "(d) Let $X$ be the number of cars in a group by 1000 cars that have painting defects. Let $Y$ be the number of cars in a group of 1000 cars that have polishing defects. What is the distribution of $X$? What is the distribution of $Y$?\n",
    "\n",
    "(e) What is the probabiltiy that the total number of defects, $X+Y$, is less than or equal to 300?\n",
    "\n",
    "**Answer:** (a) 0.28 (b) 280 (c) 3.6e-9 (d)X~binom(1000,0.2) Y~(1000,0.1) (e) 0.52"
   ]
  },
  {
   "cell_type": "code",
   "execution_count": 9,
   "metadata": {},
   "outputs": [
    {
     "data": {
      "text/plain": [
       "0.2799999999999999"
      ]
     },
     "execution_count": 9,
     "metadata": {},
     "output_type": "execute_result"
    }
   ],
   "source": [
    "1-0.8*0.9"
   ]
  },
  {
   "cell_type": "code",
   "execution_count": 10,
   "metadata": {},
   "outputs": [
    {
     "data": {
      "text/plain": [
       "279.99999999999994"
      ]
     },
     "execution_count": 10,
     "metadata": {},
     "output_type": "execute_result"
    }
   ],
   "source": [
    "1000*(1-0.8*0.9)"
   ]
  },
  {
   "cell_type": "code",
   "execution_count": 19,
   "metadata": {},
   "outputs": [
    {
     "data": {
      "text/plain": [
       "3.600219457488701e-09"
      ]
     },
     "execution_count": 19,
     "metadata": {},
     "output_type": "execute_result"
    }
   ],
   "source": [
    "binom(1000,0.28).cdf(200)"
   ]
  },
  {
   "cell_type": "code",
   "execution_count": 20,
   "metadata": {},
   "outputs": [],
   "source": [
    "dist1=binom(1000,0.2)\n",
    "dist2=binom(1000,0.1)"
   ]
  },
  {
   "cell_type": "code",
   "execution_count": 23,
   "metadata": {},
   "outputs": [],
   "source": [
    "s1=dist1.rvs(size=10000000)\n",
    "s2=dist2.rvs(size=10000000)"
   ]
  },
  {
   "cell_type": "code",
   "execution_count": 24,
   "metadata": {},
   "outputs": [
    {
     "data": {
      "text/plain": [
       "0.515605"
      ]
     },
     "execution_count": 24,
     "metadata": {},
     "output_type": "execute_result"
    }
   ],
   "source": [
    "(s1+s2<=300).mean()"
   ]
  },
  {
   "cell_type": "markdown",
   "metadata": {},
   "source": [
    "## Q7. Sampling from an Arbitrary Discrete Distribution\n",
    "\n",
    "The `scipy.stats.rv_discrete` package only supports discrete distributions with integer values. In this exercise, you will write a function `sample(probabilities,values)` that takes two inputs:\n",
    "- `probabilities`: a list of non-negative numbers adding up to one.\n",
    "- `values`: a list of numerical values, not necessarily positive or integer. \n",
    "The function should return a random value from the list `values`, based on the corresponding probabilities.\n",
    "\n",
    "For example, the code\n",
    "```\n",
    "sample([0.5,0.1,0.4],[3.5,-1,4.2])\n",
    "```\n",
    "\n",
    "Should return 3.5 with probability .5, -1 with probability 0.1, and 4.2 with probability 0.4.\n",
    "\n",
    "Write your function in the code cell below, and test it by drawing 10,000 samples and checking whether the frequencies of values correspond approximately to the probabilities you input.\n",
    "\n",
    "**Hint:**\n",
    "You can sample from an arbitrary discrete distribution by first drawing a uniformly random sample from 0 to 1, using the `np.random.random()` function or the `scipy.stats.uniform` package. Call this uniform random sample `z`. Then in the above example, you would return 3.5 if `z` is between 0 and 0.5, return -1 if `z` is between 0.5 and 0.6, and return 4.2 if `z` is between 0.6 and 1."
   ]
  },
  {
   "cell_type": "code",
   "execution_count": 196,
   "metadata": {},
   "outputs": [],
   "source": [
    "from scipy.stats import uniform\n",
    "import pandas as pd\n",
    "import matplotlib.pyplot as plt"
   ]
  },
  {
   "cell_type": "code",
   "execution_count": 200,
   "metadata": {},
   "outputs": [],
   "source": [
    "def sample(probabilities,values):\n",
    "    if sum(probabilities)!=1:\n",
    "        print(\"Sum of probability should equal 1\")\n",
    "    elif len(probabilities)!=len(values):\n",
    "        print(\"Size of the probabilities and values should be the same\")\n",
    "    else:\n",
    "        total=[]\n",
    "        for i in range(len(probabilities)):\n",
    "            if probabilities[i]<0:\n",
    "                print(\"Probability should be 0-1\")\n",
    "                break\n",
    "            total.append(sum(probabilities[:i+1]))\n",
    "        if len(total)==len(probabilities):\n",
    "            val=[]\n",
    "            samp=uniform(0,1).rvs(size=10000)\n",
    "            for i in samp:\n",
    "                if i<total[0]:\n",
    "                    val.append(values[0])\n",
    "                else:\n",
    "                    for j in range(len(total)-1):\n",
    "                        if ((i-total[j])*(i-total[j+1])<0):\n",
    "                            break\n",
    "                    val.append(values[j+1])\n",
    "    return val"
   ]
  },
  {
   "cell_type": "code",
   "execution_count": 206,
   "metadata": {},
   "outputs": [],
   "source": [
    "data=pd.DataFrame(sample([0.5,0.1,0.4],[3.5,-1,4.2]))"
   ]
  },
  {
   "cell_type": "code",
   "execution_count": 212,
   "metadata": {},
   "outputs": [
    {
     "data": {
      "image/png": "[encoded data removed]",
      "text/plain": [
       "<Figure size 432x288 with 1 Axes>"
      ]
     },
     "metadata": {},
     "output_type": "display_data"
    }
   ],
   "source": [
    "data.plot(kind='hist').legend_.remove()"
   ]
  },
  {
   "cell_type": "markdown",
   "metadata": {},
   "source": [
    "## Q8. Simulating Distribution of Daily Earnings at Rockport\n",
    "\n",
    "In this exercise, you will use the `scipy.stats` package to generate normal and general discrete samples, in order to plot the shape of the probability distributions of the daily earnings from using Rockport in the example in DMD 5.1 (from pre-class readings). Simulate 10000 samples and plot the frequency instead of the density. You should also include the proper titles and labels of the x and y axis. Write your code in the code cell below (a correct sample graph is below).\n",
    "\n",
    "**Hints:**\n",
    "See page 196-197 in DMD for description of the distribution. It has the form $price*min(demand,3500)-10000$, where price is normally distributed with mean $\\mu = 3.65$ and standard deviation of $\\sigma=0.2$, demand follows a discrete distribution, as in the following table. (You can either use your code from Q7 to sample from the discrete distribution, or use `scipy.stats.rv_discrete` since all the values are integers. Or you can try both and see if the results are approximately the same.) You should make the price zero whenever you get a negative sample.\n",
    "\n",
    "| Demand (lbs of codfish) | Probability |\n",
    "|--|--|\n",
    "|0 | 0.02|\n",
    "|1000|0.03|\n",
    "|2000|0.05|\n",
    "|3000|0.08|\n",
    "|4000|0.33|\n",
    "|5000|0.29|\n",
    "|6000|0.20|\n",
    "\n"
   ]
  },
  {
   "cell_type": "code",
   "execution_count": 224,
   "metadata": {},
   "outputs": [],
   "source": [
    "D=[]\n",
    "for i in range(7): D.append(1000*i)"
   ]
  },
  {
   "cell_type": "code",
   "execution_count": 230,
   "metadata": {},
   "outputs": [],
   "source": [
    "Prob=[0.02,0.03,0.05,0.08,0.33,0.29,0.2]"
   ]
  },
  {
   "cell_type": "code",
   "execution_count": 231,
   "metadata": {},
   "outputs": [],
   "source": [
    "Demand=sample(Prob,D)"
   ]
  },
  {
   "cell_type": "code",
   "execution_count": 232,
   "metadata": {},
   "outputs": [],
   "source": [
    "P=norm(3.65,0.2).rvs(size=10000)"
   ]
  },
  {
   "cell_type": "code",
   "execution_count": 240,
   "metadata": {},
   "outputs": [],
   "source": [
    "R=[]\n",
    "for i in range(10000):\n",
    "    R.append(P[i]*min(Demand[i],3500)-10000)"
   ]
  },
  {
   "cell_type": "code",
   "execution_count": 246,
   "metadata": {},
   "outputs": [
    {
     "data": {
      "text/plain": [
       "Text(0.5,1,'Distribution of earnings from Rockport (10000 simulations)')"
      ]
     },
     "execution_count": 246,
     "metadata": {},
     "output_type": "execute_result"
    },
    {
     "data": {
      "image/png": "[encoded data removed]",
      "text/plain": [
       "<Figure size 432x288 with 1 Axes>"
      ]
     },
     "metadata": {},
     "output_type": "display_data"
    }
   ],
   "source": [
    "earnings=pd.DataFrame(R)\n",
    "earnings.plot(kind='hist',bins=50).legend_.remove()\n",
    "plt.xlabel('Earnings from Rockport')\n",
    "plt.title('Distribution of earnings from Rockport (10000 simulations)')"
   ]
  },
  {
   "cell_type": "code",
   "execution_count": 1,
   "metadata": {},
   "outputs": [
    {
     "data": {
      "image/png": "[encoded data removed]",
      "text/plain": [
       "<Figure size 432x288 with 1 Axes>"
      ]
     },
     "metadata": {},
     "output_type": "display_data"
    }
   ],
   "source": [
    "# Sample output (your code should output a graph that looks essentially identically)"
   ]
  }
 ],
 "metadata": {
  "kernelspec": {
   "display_name": "Python 3",
   "language": "python",
   "name": "python3"
  },
  "language_info": {
   "codemirror_mode": {
    "name": "ipython",
    "version": 3
   },
   "file_extension": ".py",
   "mimetype": "text/x-python",
   "name": "python",
   "nbconvert_exporter": "python",
   "pygments_lexer": "ipython3",
   "version": "3.6.5"
  }
 },
 "nbformat": 4,
 "nbformat_minor": 2
}
